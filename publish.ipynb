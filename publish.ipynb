{
 "cells": [
  {
   "cell_type": "markdown",
   "metadata": {},
   "source": [
    "### Publish Repository"
   ]
  },
  {
   "cell_type": "code",
   "execution_count": 1,
   "metadata": {},
   "outputs": [
    {
     "name": "stdout",
     "output_type": "stream",
     "text": [
      "Files successfully copied from private repository (jetlag-private) to public repository (jetlag-public)\n"
     ]
    }
   ],
   "source": [
    "# Packages\n",
    "import os\n",
    "import shutil\n",
    "\n",
    "# Get directories\n",
    "dir_path_private = os.getcwd()\n",
    "dir_path_public = os.path.join(os.path.dirname(dir_path_private), 'jetlag-public')\n",
    "\n",
    "# Copy files and directories from private repository to public repository\n",
    "shutil.copy(os.path.join(dir_path_private, 'index.html'), dir_path_public)\n",
    "shutil.copy(os.path.join(dir_path_private, 'script.js'), dir_path_public)\n",
    "shutil.copy(os.path.join(dir_path_private, 'styles.css'), dir_path_public)\n",
    "\n",
    "if os.path.exists(os.path.join(dir_path_public, 'assets')):\n",
    "    shutil.rmtree(os.path.join(dir_path_public, 'assets'))\n",
    "shutil.copytree(os.path.join(dir_path_private, 'assets'), os.path.join(dir_path_public, 'assets'))\n",
    "\n",
    "if os.path.exists(os.path.join(dir_path_public, 'icons')):\n",
    "    shutil.rmtree(os.path.join(dir_path_public, 'icons'))\n",
    "shutil.copytree(os.path.join(dir_path_private, 'icons'), os.path.join(dir_path_public, 'icons'))\n",
    "shutil.copy(os.path.join(dir_path_private, 'map', 'map.html'), os.path.join(dir_path_public, 'map'))\n",
    "\n",
    "# Print success message\n",
    "print('Files successfully copied from private repository ({}) to public repository ({})'.format(os.path.basename(dir_path_private), os.path.basename(dir_path_public)))"
   ]
  }
 ],
 "metadata": {
  "kernelspec": {
   "display_name": "jetlag_env",
   "language": "python",
   "name": "python3"
  },
  "language_info": {
   "codemirror_mode": {
    "name": "ipython",
    "version": 3
   },
   "file_extension": ".py",
   "mimetype": "text/x-python",
   "name": "python",
   "nbconvert_exporter": "python",
   "pygments_lexer": "ipython3",
   "version": "3.13.0"
  }
 },
 "nbformat": 4,
 "nbformat_minor": 2
}
