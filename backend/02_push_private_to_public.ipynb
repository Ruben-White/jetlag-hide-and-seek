{
 "cells": [
  {
   "cell_type": "markdown",
   "metadata": {},
   "source": [
    "### Push Private to Public"
   ]
  },
  {
   "cell_type": "code",
   "execution_count": 13,
   "metadata": {},
   "outputs": [],
   "source": [
    "# Packages\n",
    "import os\n",
    "import shutil"
   ]
  },
  {
   "cell_type": "code",
   "execution_count": 19,
   "metadata": {},
   "outputs": [
    {
     "data": {
      "text/plain": [
       "'c:\\\\Users\\\\Ruben\\\\Documents\\\\GitHub\\\\jetlag-public\\\\icons'"
      ]
     },
     "execution_count": 19,
     "metadata": {},
     "output_type": "execute_result"
    }
   ],
   "source": [
    "# Get directories\n",
    "dir_path_private = os.path.dirname(os.getcwd())\n",
    "dir_path_public = os.path.join(os.path.dirname(dir_path_private), 'jetlag-public')\n",
    "\n",
    "# Copy files and directories from private to public\n",
    "shutil.copy(os.path.join(dir_path_private, 'index.html'), dir_path_public)\n",
    "shutil.copy(os.path.join(dir_path_private, 'script.js'), dir_path_public)\n",
    "shutil.copy(os.path.join(dir_path_private, 'styles.css'), dir_path_public)\n",
    "\n",
    "if os.path.exists(os.path.join(dir_path_public, 'assets')):\n",
    "    shutil.rmtree(os.path.join(dir_path_public, 'assets'))\n",
    "shutil.copytree(os.path.join(dir_path_private, 'assets'), os.path.join(dir_path_public, 'assets'))\n",
    "\n",
    "if os.path.exists(os.path.join(dir_path_public, 'icons')):\n",
    "    shutil.rmtree(os.path.join(dir_path_public, 'icons'))\n",
    "shutil.copytree(os.path.join(dir_path_private, 'icons'), os.path.join(dir_path_public, 'icons'))"
   ]
  },
  {
   "cell_type": "code",
   "execution_count": null,
   "metadata": {},
   "outputs": [],
   "source": []
  }
 ],
 "metadata": {
  "kernelspec": {
   "display_name": "jetlag_env",
   "language": "python",
   "name": "python3"
  },
  "language_info": {
   "codemirror_mode": {
    "name": "ipython",
    "version": 3
   },
   "file_extension": ".py",
   "mimetype": "text/x-python",
   "name": "python",
   "nbconvert_exporter": "python",
   "pygments_lexer": "ipython3",
   "version": "3.13.0"
  }
 },
 "nbformat": 4,
 "nbformat_minor": 2
}
